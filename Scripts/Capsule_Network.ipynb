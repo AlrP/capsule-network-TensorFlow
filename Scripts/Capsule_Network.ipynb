{
 "cells": [
  {
   "cell_type": "markdown",
   "metadata": {},
   "source": [
    "#  In this script I am creating the advanced and latest model named CapsNet for the MNIST digits dataset. The model uses the dynamic routing by agreement algorithm.\n",
    "-------------------------------------------------------------------------------------------------------------------\n",
    "# Technology used: TensorFlow"
   ]
  },
  {
   "cell_type": "markdown",
   "metadata": {},
   "source": [
    "### Start with the usual utility cells"
   ]
  },
  {
   "cell_type": "code",
   "execution_count": 1,
   "metadata": {
    "collapsed": true
   },
   "outputs": [],
   "source": [
    "# packages used for processing: \n",
    "import matplotlib.pyplot as plt # for visualization\n",
    "import numpy as np\n",
    "\n",
    "# for pickling the data\n",
    "import cPickle as pickle\n",
    "\n",
    "# THE TensorFlow framework\n",
    "import tensorflow as tf\n",
    "\n",
    "# for operating system related stuff\n",
    "import os\n",
    "import sys # for memory usage of objects\n",
    "from subprocess import check_output\n",
    "\n",
    "# to plot the images inline\n",
    "%matplotlib inline"
   ]
  },
  {
   "cell_type": "code",
   "execution_count": 2,
   "metadata": {
    "collapsed": true
   },
   "outputs": [],
   "source": [
    "# Input data files are available in the \"../Data/\" directory.\n",
    "\n",
    "def exec_command(cmd):\n",
    "    '''\n",
    "        function to execute a shell command and see it's \n",
    "        output in the python console\n",
    "        @params\n",
    "        cmd = the command to be executed along with the arguments\n",
    "              ex: ['ls', '../input']\n",
    "    '''\n",
    "    print(check_output(cmd).decode(\"utf8\"))"
   ]
  },
  {
   "cell_type": "code",
   "execution_count": 3,
   "metadata": {},
   "outputs": [
    {
     "name": "stdout",
     "output_type": "stream",
     "text": [
      "Data\n",
      "LICENSE\n",
      "Literature\n",
      "Models\n",
      "README.md\n",
      "Scripts\n",
      "\n"
     ]
    }
   ],
   "source": [
    "# check the structure of the project directory\n",
    "exec_command(['ls', '..'])"
   ]
  },
  {
   "cell_type": "code",
   "execution_count": 4,
   "metadata": {
    "collapsed": true
   },
   "outputs": [],
   "source": [
    "np.random.seed(3) # set this seed for a device independant consistent behaviour"
   ]
  },
  {
   "cell_type": "code",
   "execution_count": 5,
   "metadata": {
    "collapsed": true
   },
   "outputs": [],
   "source": [
    "''' Set the constants for the script '''\n",
    "\n",
    "# various paths of the files\n",
    "data_path = \"../Data\" # the data path\n",
    "\n",
    "base_model_path = \"../Models\""
   ]
  },
  {
   "cell_type": "code",
   "execution_count": 6,
   "metadata": {
    "collapsed": true
   },
   "outputs": [],
   "source": [
    "# Hyper parameters for tweaking.\n",
    "# ==================================================================================================================\n",
    "im_dim = 128; n_channels = 3 # RGB images\n",
    "patch_size = 32 # we look at 32 x 32 sized patches to generate the representation vectors\n",
    "fixed_resize = (im_dim, im_dim, n_channels)\n",
    "batch_size = 64 # 64 images in each batch\n",
    "highest_pixel_value = 255 # since color channels are 8 bits.\n",
    "train_percentage = 95\n",
    "representation_vector_length = 128 # length of the representation vector to be fed to the RNN\n",
    "cell_state_size = 512 # LSTM_cell_size\n",
    "no_of_epochs = 100\n",
    "checkpoint_factor = 5 # save model after 5 epochs\n",
    "# =================================================================================================================="
   ]
  },
  {
   "cell_type": "code",
   "execution_count": 7,
   "metadata": {
    "collapsed": true
   },
   "outputs": [],
   "source": [
    "# use the tensorflow's archived version of the MNIST dataset\n",
    "from tensorflow.examples.tutorials.mnist import input_data"
   ]
  },
  {
   "cell_type": "code",
   "execution_count": 8,
   "metadata": {},
   "outputs": [
    {
     "name": "stdout",
     "output_type": "stream",
     "text": [
      "Extracting ../Data/MNIST_data/train-images-idx3-ubyte.gz\n",
      "Extracting ../Data/MNIST_data/train-labels-idx1-ubyte.gz\n",
      "Extracting ../Data/MNIST_data/t10k-images-idx3-ubyte.gz\n",
      "Extracting ../Data/MNIST_data/t10k-labels-idx1-ubyte.gz\n"
     ]
    }
   ],
   "source": [
    "mnist_data = input_data.read_data_sets(os.path.join(data_path, \"MNIST_data\"), reshape=False)"
   ]
  },
  {
   "cell_type": "code",
   "execution_count": 11,
   "metadata": {},
   "outputs": [],
   "source": [
    "train_X = mnist_data.train.images; train_Y = mnist_data.train.labels\n",
    "dev_X = mnist_data.validation.images; dev_Y = mnist_data.validation.labels\n",
    "test_X = mnist_data.test.images; test_Y = mnist_data.test.labels"
   ]
  },
  {
   "cell_type": "code",
   "execution_count": 12,
   "metadata": {},
   "outputs": [
    {
     "name": "stdout",
     "output_type": "stream",
     "text": [
      "Training Data shapes:  (55000, 28, 28, 1) (55000,)\n",
      "Development Data shapes:  (5000, 28, 28, 1) (5000,)\n",
      "Test Data shapes:  (10000, 28, 28, 1) (10000,)\n"
     ]
    }
   ],
   "source": [
    "# print all the shapes:\n",
    "print \"Training Data shapes: \", train_X.shape, train_Y.shape\n",
    "print \"Development Data shapes: \", dev_X.shape, dev_Y.shape\n",
    "print \"Test Data shapes: \", test_X.shape, test_Y.shape"
   ]
  },
  {
   "cell_type": "code",
   "execution_count": null,
   "metadata": {
    "collapsed": true
   },
   "outputs": [],
   "source": []
  },
  {
   "cell_type": "code",
   "execution_count": null,
   "metadata": {
    "collapsed": true
   },
   "outputs": [],
   "source": []
  },
  {
   "cell_type": "code",
   "execution_count": null,
   "metadata": {
    "collapsed": true
   },
   "outputs": [],
   "source": []
  },
  {
   "cell_type": "code",
   "execution_count": null,
   "metadata": {
    "collapsed": true
   },
   "outputs": [],
   "source": []
  },
  {
   "cell_type": "code",
   "execution_count": null,
   "metadata": {
    "collapsed": true
   },
   "outputs": [],
   "source": []
  }
 ],
 "metadata": {
  "kernelspec": {
   "display_name": "Python 2",
   "language": "python",
   "name": "python2"
  },
  "language_info": {
   "codemirror_mode": {
    "name": "ipython",
    "version": 2
   },
   "file_extension": ".py",
   "mimetype": "text/x-python",
   "name": "python",
   "nbconvert_exporter": "python",
   "pygments_lexer": "ipython2",
   "version": "2.7.13"
  }
 },
 "nbformat": 4,
 "nbformat_minor": 2
}
