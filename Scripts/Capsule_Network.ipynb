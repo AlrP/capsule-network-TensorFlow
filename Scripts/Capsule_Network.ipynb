{
 "cells": [
  {
   "cell_type": "markdown",
   "metadata": {},
   "source": [
    "#  In this script I am creating the advanced and latest model named CapsNet for the MNIST digits dataset. The model uses the dynamic routing by agreement algorithm.\n",
    "-------------------------------------------------------------------------------------------------------------------\n",
    "# Technology used: TensorFlow"
   ]
  },
  {
   "cell_type": "markdown",
   "metadata": {},
   "source": [
    "### Start with the usual utility cells"
   ]
  },
  {
   "cell_type": "code",
   "execution_count": 1,
   "metadata": {
    "collapsed": true
   },
   "outputs": [],
   "source": [
    "# packages used for processing: \n",
    "import matplotlib.pyplot as plt # for visualization\n",
    "import numpy as np\n",
    "\n",
    "# for pickling the data\n",
    "import cPickle as pickle\n",
    "\n",
    "# THE TensorFlow framework\n",
    "import tensorflow as tf\n",
    "# use the tensorflow's archived version of the MNIST dataset\n",
    "from tensorflow.examples.tutorials.mnist import input_data\n",
    "\n",
    "# for operating system related stuff\n",
    "import os\n",
    "import sys # for memory usage of objects\n",
    "from subprocess import check_output\n",
    "\n",
    "# to plot the images inline\n",
    "%matplotlib inline"
   ]
  },
  {
   "cell_type": "code",
   "execution_count": 2,
   "metadata": {
    "collapsed": true
   },
   "outputs": [],
   "source": [
    "# Input data files are available in the \"../Data/\" directory.\n",
    "\n",
    "def exec_command(cmd):\n",
    "    '''\n",
    "        function to execute a shell command and see it's \n",
    "        output in the python console\n",
    "        @params\n",
    "        cmd = the command to be executed along with the arguments\n",
    "              ex: ['ls', '../input']\n",
    "    '''\n",
    "    print(check_output(cmd).decode(\"utf8\"))"
   ]
  },
  {
   "cell_type": "code",
   "execution_count": 3,
   "metadata": {
    "collapsed": false
   },
   "outputs": [
    {
     "name": "stdout",
     "output_type": "stream",
     "text": [
      "Data\n",
      "LICENSE\n",
      "Literature\n",
      "README.md\n",
      "Scripts\n",
      "\n"
     ]
    }
   ],
   "source": [
    "# check the structure of the project directory\n",
    "exec_command(['ls', '..'])"
   ]
  },
  {
   "cell_type": "code",
   "execution_count": 4,
   "metadata": {
    "collapsed": true
   },
   "outputs": [],
   "source": [
    "# set a seed value for the script\n",
    "seed_value = 3"
   ]
  },
  {
   "cell_type": "code",
   "execution_count": 5,
   "metadata": {
    "collapsed": true
   },
   "outputs": [],
   "source": [
    "np.random.seed(seed_value) # set this seed for a device independant consistent behaviour"
   ]
  },
  {
   "cell_type": "code",
   "execution_count": 6,
   "metadata": {
    "collapsed": true
   },
   "outputs": [],
   "source": [
    "''' Set the constants for the script '''\n",
    "\n",
    "# various paths of the files\n",
    "data_path = \"../Data\" # the data path\n",
    "\n",
    "base_model_path = \"../Models\"\n",
    "\n",
    "# constant values for the script\n",
    "num_digits = 10 # This is defined. There are 10 labels for 10 digits"
   ]
  },
  {
   "cell_type": "code",
   "execution_count": 64,
   "metadata": {
    "collapsed": true
   },
   "outputs": [],
   "source": [
    "# Hyper parameters for tweaking.\n",
    "# ==================================================================================================================\n",
    "batch_size = 64 # 64 images in each batch\n",
    "no_of_epochs = 100\n",
    "checkpoint_factor = 5 # save model after 5 epochs\n",
    "primary_capsule_length = 8\n",
    "depthwise_count_of_primary_capsules = 32\n",
    "conv_lay_kernel_size = 9; conv_lay_stride = 1\n",
    "conv_lay_num_filters = 256\n",
    "prim_cap_lay_kernel_size = 9; prim_cap_lay_stride = 2\n",
    "digit_capsule_length = 16 # Can be tweaked later on\n",
    "ROUTING_ITERATIONS_COUNT = 4 # no. of routing by agreement iterations\n",
    "\n",
    "loss_lambda = 0.5\n",
    "recons_lambda = 0.0005\n",
    "no_of_epochs = 10\n",
    "# =================================================================================================================="
   ]
  },
  {
   "cell_type": "code",
   "execution_count": 10,
   "metadata": {
    "collapsed": false,
    "scrolled": false
   },
   "outputs": [
    {
     "name": "stdout",
     "output_type": "stream",
     "text": [
      "Extracting ../Data/MNIST_data/train-images-idx3-ubyte.gz\n",
      "Extracting ../Data/MNIST_data/train-labels-idx1-ubyte.gz\n",
      "Extracting ../Data/MNIST_data/t10k-images-idx3-ubyte.gz\n",
      "Extracting ../Data/MNIST_data/t10k-labels-idx1-ubyte.gz\n"
     ]
    }
   ],
   "source": [
    "mnist_data = input_data.read_data_sets(os.path.join(data_path, \"MNIST_data\"), reshape=False)"
   ]
  },
  {
   "cell_type": "code",
   "execution_count": 11,
   "metadata": {
    "collapsed": true
   },
   "outputs": [],
   "source": [
    "train_X = mnist_data.train.images; train_Y = mnist_data.train.labels\n",
    "dev_X = mnist_data.validation.images; dev_Y = mnist_data.validation.labels\n",
    "test_X = mnist_data.test.images; test_Y = mnist_data.test.labels"
   ]
  },
  {
   "cell_type": "code",
   "execution_count": 12,
   "metadata": {
    "collapsed": false
   },
   "outputs": [
    {
     "name": "stdout",
     "output_type": "stream",
     "text": [
      "Training Data shapes:  (55000, 28, 28, 1) (55000,)\n",
      "Development Data shapes:  (5000, 28, 28, 1) (5000,)\n",
      "Test Data shapes:  (10000, 28, 28, 1) (10000,)\n"
     ]
    }
   ],
   "source": [
    "# print all the shapes:\n",
    "print \"Training Data shapes: \", train_X.shape, train_Y.shape\n",
    "print \"Development Data shapes: \", dev_X.shape, dev_Y.shape\n",
    "print \"Test Data shapes: \", test_X.shape, test_Y.shape"
   ]
  },
  {
   "cell_type": "code",
   "execution_count": 13,
   "metadata": {
    "collapsed": true
   },
   "outputs": [],
   "source": [
    "# define the total_train_examples:\n",
    "total_train_examples = train_X.shape[0] # first dimension is the batch dimension\n",
    "img_dim = train_X.shape[1] # second and third dimensions are height and width\n",
    "num_channels = train_X.shape[-1] # last dimension is the channels dimension. (Here it is 1)"
   ]
  },
  {
   "cell_type": "markdown",
   "metadata": {
    "collapsed": true
   },
   "source": [
    "## Perform random checking of the images to verify if their sanity is maintained"
   ]
  },
  {
   "cell_type": "markdown",
   "metadata": {},
   "source": [
    "### run the following cell multiple times. "
   ]
  },
  {
   "cell_type": "code",
   "execution_count": 15,
   "metadata": {
    "collapsed": false
   },
   "outputs": [
    {
     "data": {
      "image/png": "[encoded data removed]",
      "text/plain": [
       "<matplotlib.figure.Figure at 0x7f52879c8c50>"
      ]
     },
     "metadata": {},
     "output_type": "display_data"
    }
   ],
   "source": [
    "''' Randomized cell: Behaviour changes upon running multiple times '''\n",
    "\n",
    "random_index = np.random.randint(total_train_examples)\n",
    "\n",
    "# bring the random image from the training data\n",
    "random_image = np.squeeze(train_X[random_index], axis = -1)\n",
    "label_for_random_image = train_Y[random_index]\n",
    "\n",
    "# display this random image:\n",
    "plt.figure().suptitle(\"Image for digit: \" + str(label_for_random_image))\n",
    "plt.imshow(random_image);"
   ]
  },
  {
   "cell_type": "markdown",
   "metadata": {
    "collapsed": true
   },
   "source": [
    "It is a great tool that TensorFlow has provided under the examples package. The data setup becomes so easy especially for experimental notebooks. MNIST is one of the most used dataset and is regarded as the 'Drosophila' of Machine Learning by G. Hinton."
   ]
  },
  {
   "cell_type": "markdown",
   "metadata": {
    "collapsed": true
   },
   "source": [
    "# Capsule Network part:"
   ]
  },
  {
   "cell_type": "code",
   "execution_count": 42,
   "metadata": {
    "collapsed": true
   },
   "outputs": [],
   "source": [
    "# point to reset the graph if some error occurs below:\n",
    "tf.reset_default_graph()"
   ]
  },
  {
   "cell_type": "markdown",
   "metadata": {},
   "source": [
    "define the placeholders for the TensorFlow Computation graph:"
   ]
  },
  {
   "cell_type": "code",
   "execution_count": 43,
   "metadata": {
    "collapsed": true
   },
   "outputs": [],
   "source": [
    "with tf.name_scope(\"Input_data\"):\n",
    "    tf_input_images = tf.placeholder(tf.float32, shape=(None, img_dim, img_dim, num_channels), name=\"input_images\")\n",
    "    tf_input_labels = tf.placeholder(tf.int32, shape=(None,), name=\"input_labels\")\n",
    "    \n",
    "    # attach a summary op for the input_images\n",
    "    input_images_summary = tf.summary.image(\"input_images\", tf_input_images)"
   ]
  },
  {
   "cell_type": "markdown",
   "metadata": {},
   "source": [
    "encode the labels into one_hot encoded format:"
   ]
  },
  {
   "cell_type": "code",
   "execution_count": 44,
   "metadata": {
    "collapsed": true
   },
   "outputs": [],
   "source": [
    "with tf.name_scope(\"One_hot_encoder\"):\n",
    "    tf_one_hot_encoded_labels = tf.one_hot(tf_input_labels, depth=num_digits, name=\"one_hot_encoder\")"
   ]
  },
  {
   "cell_type": "code",
   "execution_count": 45,
   "metadata": {
    "collapsed": false
   },
   "outputs": [
    {
     "name": "stdout",
     "output_type": "stream",
     "text": [
      "One_hot_encoded labels:  Tensor(\"One_hot_encoder/one_hot_encoder:0\", shape=(?, 10), dtype=float32)\n"
     ]
    }
   ],
   "source": [
    "# check the dimensions of the tf_one_hot_encoded_labels\n",
    "print \"One_hot_encoded labels: \", tf_one_hot_encoded_labels"
   ]
  },
  {
   "cell_type": "markdown",
   "metadata": {},
   "source": [
    "the shape is as expected. So, we can now move forward"
   ]
  },
  {
   "cell_type": "markdown",
   "metadata": {},
   "source": [
    "define the first two layers of the CapsNet architecture:"
   ]
  },
  {
   "cell_type": "code",
   "execution_count": 46,
   "metadata": {
    "collapsed": true
   },
   "outputs": [],
   "source": [
    "# define the conv layer:\n",
    "with tf.name_scope(\"Conv1\"):\n",
    "    conv_lay_out = tf.layers.conv2d(tf_input_images, filters=conv_lay_num_filters, \n",
    "                        kernel_size=conv_lay_kernel_size, activation=tf.nn.relu, strides=conv_lay_stride,\n",
    "                    kernel_initializer=tf.contrib.layers.xavier_initializer_conv2d(seed=seed_value))"
   ]
  },
  {
   "cell_type": "code",
   "execution_count": 47,
   "metadata": {
    "collapsed": false
   },
   "outputs": [
    {
     "name": "stdout",
     "output_type": "stream",
     "text": [
      "lay_1 output volume:  Tensor(\"Conv1/conv2d/Relu:0\", shape=(?, 20, 20, 256), dtype=float32)\n"
     ]
    }
   ],
   "source": [
    "# check the shape of the lay_1 outputs\n",
    "print \"lay_1 output volume: \", conv_lay_out"
   ]
  },
  {
   "cell_type": "markdown",
   "metadata": {},
   "source": [
    "The shape is as expected."
   ]
  },
  {
   "cell_type": "markdown",
   "metadata": {},
   "source": [
    "giving due credit -> https://github.com/ageron/handson-ml/blob/master/extra_capsnets.ipynb <br>\n",
    "I have used the following function from above mentioned repository."
   ]
  },
  {
   "cell_type": "code",
   "execution_count": 48,
   "metadata": {
    "collapsed": true
   },
   "outputs": [],
   "source": [
    "# define the squash function for the primary_caps layer:\n",
    "def squash(s, axis=-1, epsilon=1e-7, name=\"squash\"):\n",
    "    '''\n",
    "        Squash function as the block non-linearity.\n",
    "    '''\n",
    "    with tf.name_scope(name, default_name=\"squash\"):\n",
    "        # obtain the squared norm first\n",
    "        squared_norm = tf.reduce_sum(tf.square(s), axis=axis, keep_dims=True)\n",
    "        \n",
    "        # add a small epsilon to it to make the compuations stable\n",
    "        safe_norm = tf.sqrt(squared_norm + epsilon)\n",
    "        \n",
    "        # calculate the squash_factor term\n",
    "        squash_factor = squared_norm / (1. + squared_norm) # note that this term is already stable\n",
    "        \n",
    "        # calculate the unit vector\n",
    "        unit_vector = s / safe_norm\n",
    "        \n",
    "        # return the squashed output.\n",
    "        return squash_factor * unit_vector"
   ]
  },
  {
   "cell_type": "code",
   "execution_count": 49,
   "metadata": {
    "collapsed": true
   },
   "outputs": [],
   "source": [
    "# define the primary caps layer:\n",
    "with tf.name_scope(\"PrimaryCaps\"):\n",
    "    primary_caps_lay_out = tf.layers.conv2d(conv_lay_out, kernel_size=prim_cap_lay_kernel_size, \n",
    "                                strides=prim_cap_lay_stride,\n",
    "                                filters=(primary_capsule_length * depthwise_count_of_primary_capsules),\n",
    "                                kernel_initializer=tf.contrib.layers.xavier_initializer_conv2d(seed=seed_value))\n",
    "    \n",
    "    # reshape the output volume in the form of capsules\n",
    "    _, h, w, _ = primary_caps_lay_out.get_shape() # extract the height and width of the original volume\n",
    "    primary_caps_lay_out = tf.reshape(primary_caps_lay_out, \n",
    "            shape=(-1, h * w * depthwise_count_of_primary_capsules, primary_capsule_length), name=\"capsule_maker\")\n",
    "    \n",
    "    # finally apply the squash function\n",
    "    primary_caps_lay_out = squash(primary_caps_lay_out)"
   ]
  },
  {
   "cell_type": "code",
   "execution_count": 50,
   "metadata": {
    "collapsed": false
   },
   "outputs": [
    {
     "name": "stdout",
     "output_type": "stream",
     "text": [
      "primary_caps_lay output volume:  Tensor(\"PrimaryCaps/squash/mul:0\", shape=(?, 1152, 8), dtype=float32)\n"
     ]
    }
   ],
   "source": [
    "# check the shape of the primary_caps_lay_out\n",
    "print \"primary_caps_lay output volume: \", primary_caps_lay_out"
   ]
  },
  {
   "cell_type": "code",
   "execution_count": 51,
   "metadata": {
    "collapsed": true
   },
   "outputs": [],
   "source": [
    "# extract the prev_layer_caps count\n",
    "_, no_of_primary_layer_caps, _ = primary_caps_lay_out.get_shape()"
   ]
  },
  {
   "cell_type": "code",
   "execution_count": 52,
   "metadata": {
    "collapsed": true
   },
   "outputs": [],
   "source": [
    "batch_size = tf.shape(primary_caps_lay_out)[0]"
   ]
  },
  {
   "cell_type": "code",
   "execution_count": 53,
   "metadata": {
    "collapsed": true
   },
   "outputs": [],
   "source": [
    "# define the weights required for the DigitCaps layer:\n",
    "with tf.variable_scope(\"DigitCaps/trainable_weights\"):\n",
    "    W = tf.get_variable(\"capsule_prediction_weights\", \n",
    "            shape=(1, no_of_primary_layer_caps, num_digits, digit_capsule_length, primary_capsule_length),\n",
    "            initializer=tf.contrib.layers.xavier_initializer(seed=seed_value))\n",
    "    \n",
    "#     # initialize the b values to zero.\n",
    "#     b_vals = tf.get_variable(\"log_priors\", \n",
    "#                              initializer = tf.zeros((1, no_of_primary_layer_caps, num_digits, 1)), \n",
    "#                              trainable=False)"
   ]
  },
  {
   "cell_type": "code",
   "execution_count": 54,
   "metadata": {
    "collapsed": false
   },
   "outputs": [
    {
     "data": {
      "text/plain": [
       "<tf.Variable 'DigitCaps/trainable_weights/capsule_prediction_weights:0' shape=(1, 1152, 10, 16, 8) dtype=float32_ref>"
      ]
     },
     "execution_count": 54,
     "metadata": {},
     "output_type": "execute_result"
    }
   ],
   "source": [
    "W"
   ]
  },
  {
   "cell_type": "code",
   "execution_count": 55,
   "metadata": {
    "collapsed": true
   },
   "outputs": [],
   "source": [
    "# define the digit_caps layer:\n",
    "''' This is an important cell! This implements the crux of the algorithm: \"The dynamic routing algorithm\" '''\n",
    "with tf.name_scope(\"DigitCaps\"):\n",
    "    # obtain the next_layer's predictions by using the defined weight matrices.\n",
    "    # tile the primary_caps_lay_out for the matrix multiplication:\n",
    "    W_tiled = tf.tile(W, multiples=[batch_size, 1, 1, 1, 1], name=\"W_tiler\")\n",
    "    \n",
    "    pclo_tiled = tf.tile(tf.expand_dims(tf.expand_dims(primary_caps_lay_out, axis=2), axis=-1), \n",
    "                         multiples=[1, 1, num_digits, 1, 1], name=\"pclo_tiler\")\n",
    "    \n",
    "    predicted_caps = tf.squeeze(tf.matmul(W_tiled, pclo_tiled), axis=[-1])\n",
    "        \n",
    "    def body(counter, routing_coeffs, output):\n",
    "        # obtain the softmax over the b_vals:\n",
    "        b_vals_attn_mask = tf.nn.softmax(routing_coeffs, dim=2)\n",
    "        \n",
    "        # attend over the predicted values followed by a squashing operation to obtain the result\n",
    "        output = squash(tf.reduce_sum(tf.multiply(predicted_caps, b_vals_attn_mask), axis=1))\n",
    "        \n",
    "        # tile the digit caps for calculating the measure of agreement.\n",
    "        dc_tiled = tf.tile(tf.expand_dims(output, axis=1), multiples=[1, no_of_primary_layer_caps, 1, 1])\n",
    "        \n",
    "        # the scalar product is calculated by multiplying the two matrices elementwise and summing over the last\n",
    "        # dimension\n",
    "        scalar_product = tf.reduce_sum(tf.multiply(dc_tiled, predicted_caps), axis=-1, keep_dims=True)\n",
    "        \n",
    "        # add this scalar product to the b_vals\n",
    "        routing_coeffs = routing_coeffs + scalar_product\n",
    "        \n",
    "        return (counter + 1, routing_coeffs, output)\n",
    "        \n",
    "    # execute the while loop:\n",
    "    _, _, digit_caps = tf.while_loop(\n",
    "                            lambda i, x, y: tf.less(i, ROUTING_ITERATIONS_COUNT),\n",
    "                            body,\n",
    "                            [tf.constant(0), \n",
    "                             tf.zeros((batch_size, no_of_primary_layer_caps, num_digits, 1), dtype=tf.float32), \n",
    "                             tf.zeros((batch_size, num_digits, digit_capsule_length), dtype=tf.float32)]\n",
    "                       )"
   ]
  },
  {
   "cell_type": "markdown",
   "metadata": {},
   "source": [
    "define the loss and the optimizer for this operation:"
   ]
  },
  {
   "cell_type": "markdown",
   "metadata": {},
   "source": [
    "This function is also used from the same repository:"
   ]
  },
  {
   "cell_type": "code",
   "execution_count": 56,
   "metadata": {
    "collapsed": true
   },
   "outputs": [],
   "source": [
    "def safe_norm(s, axis=-1, epsilon=1e-7, keep_dims=False, name=None):\n",
    "    with tf.name_scope(name, default_name=\"safe_norm\"):\n",
    "        squared_norm = tf.reduce_sum(tf.square(s), axis=axis,\n",
    "                                     keep_dims=keep_dims)\n",
    "        return tf.sqrt(squared_norm + epsilon)"
   ]
  },
  {
   "cell_type": "markdown",
   "metadata": {},
   "source": [
    "## Implementation of the reconstruction module"
   ]
  },
  {
   "cell_type": "code",
   "execution_count": 57,
   "metadata": {
    "collapsed": false
   },
   "outputs": [
    {
     "data": {
      "text/plain": [
       "(<tf.Tensor 'DigitCaps/while/Exit_2:0' shape=(?, 10, 16) dtype=float32>,\n",
       " <tf.Tensor 'One_hot_encoder/one_hot_encoder:0' shape=(?, 10) dtype=float32>)"
      ]
     },
     "execution_count": 57,
     "metadata": {},
     "output_type": "execute_result"
    }
   ],
   "source": [
    "digit_caps, tf_one_hot_encoded_labels"
   ]
  },
  {
   "cell_type": "code",
   "execution_count": 58,
   "metadata": {
    "collapsed": true
   },
   "outputs": [],
   "source": [
    "with tf.name_scope(\"Reconstruction_module\"):\n",
    "    recons_input = tf.reduce_sum(digit_caps * tf.expand_dims(tf_one_hot_encoded_labels, axis=-1), axis=1)\n",
    "    \n",
    "    # use three fully connected layers for the reconstruction module\n",
    "    lay_1 = tf.layers.dense(recons_input, units=512, activation=tf.nn.relu, name=\"FC_layer_1\")\n",
    "    lay_2 = tf.layers.dense(lay_1, units=1024, activation=tf.nn.relu)\n",
    "    lay_3 = tf.layers.dense(lay_2, units=784, activation=tf.nn.sigmoid)"
   ]
  },
  {
   "cell_type": "code",
   "execution_count": 62,
   "metadata": {
    "collapsed": true
   },
   "outputs": [],
   "source": [
    "with tf.name_scope(\"Trainer\"):\n",
    "    loss1 = tf.multiply(tf_one_hot_encoded_labels, tf.square(tf.maximum(0., 0.9 - safe_norm(digit_caps))))\n",
    "    loss2 = tf.multiply((1 - tf_one_hot_encoded_labels), tf.square(tf.maximum(0., safe_norm(digit_caps) - 0.1)))\n",
    "\n",
    "    # obtain the reconstruction loss:\n",
    "    flat_tf_input_images = tf.reshape(tf_input_images, shape=(-1, img_dim * img_dim))\n",
    "    recons_loss = tf.reduce_sum(tf.square(lay_3 - flat_tf_input_images))\n",
    "    \n",
    "    loss = tf.reduce_sum(loss1 + (loss_lambda * loss2)) + (recons_lambda * recons_loss)\n",
    "    \n",
    "    # define the Adam optimizer for optimization on this loss:\n",
    "    optimizer = tf.train.AdamOptimizer()\n",
    "    \n",
    "    # define the train_step for optimization:\n",
    "    train_step = optimizer.minimize(loss)"
   ]
  },
  {
   "cell_type": "markdown",
   "metadata": {
    "collapsed": true
   },
   "source": [
    "define the errands for this task:"
   ]
  },
  {
   "cell_type": "code",
   "execution_count": 63,
   "metadata": {
    "collapsed": true
   },
   "outputs": [],
   "source": [
    "with tf.name_scope(\"Errands\"):\n",
    "    init = tf.global_variables_initializer()"
   ]
  },
  {
   "cell_type": "markdown",
   "metadata": {
    "collapsed": true
   },
   "source": [
    "## write the session code for training"
   ]
  },
  {
   "cell_type": "code",
   "execution_count": 65,
   "metadata": {
    "collapsed": false
   },
   "outputs": [
    {
     "ename": "KeyboardInterrupt",
     "evalue": "",
     "output_type": "error",
     "traceback": [
      "\u001b[1;31m---------------------------------------------------------------------------\u001b[0m",
      "\u001b[1;31mKeyboardInterrupt\u001b[0m                         Traceback (most recent call last)",
      "\u001b[1;32m<ipython-input-65-0d72d54fa3dc>\u001b[0m in \u001b[0;36m<module>\u001b[1;34m()\u001b[0m\n\u001b[0;32m     16\u001b[0m             \u001b[1;31m# This is batch gradient descent: (We are running it only on first 512 images)\u001b[0m\u001b[1;33m\u001b[0m\u001b[1;33m\u001b[0m\u001b[0m\n\u001b[0;32m     17\u001b[0m             _, cost = sess.run([train_step, loss], feed_dict={tf_input_images: batch_data_X, \n\u001b[1;32m---> 18\u001b[1;33m                                                               tf_input_labels: batch_data_Y})\n\u001b[0m\u001b[0;32m     19\u001b[0m         \u001b[1;32mprint\u001b[0m \u001b[1;34m\"epoch = \"\u001b[0m\u001b[1;33m,\u001b[0m \u001b[0mepoch\u001b[0m\u001b[1;33m,\u001b[0m \u001b[1;34m\"cost = \"\u001b[0m\u001b[1;33m,\u001b[0m \u001b[0mcost\u001b[0m\u001b[1;33m\u001b[0m\u001b[0m\n",
      "\u001b[1;32m/home/botman/Programming/Platforms/anaconda2/lib/python2.7/site-packages/tensorflow/python/client/session.pyc\u001b[0m in \u001b[0;36mrun\u001b[1;34m(self, fetches, feed_dict, options, run_metadata)\u001b[0m\n\u001b[0;32m    887\u001b[0m     \u001b[1;32mtry\u001b[0m\u001b[1;33m:\u001b[0m\u001b[1;33m\u001b[0m\u001b[0m\n\u001b[0;32m    888\u001b[0m       result = self._run(None, fetches, feed_dict, options_ptr,\n\u001b[1;32m--> 889\u001b[1;33m                          run_metadata_ptr)\n\u001b[0m\u001b[0;32m    890\u001b[0m       \u001b[1;32mif\u001b[0m \u001b[0mrun_metadata\u001b[0m\u001b[1;33m:\u001b[0m\u001b[1;33m\u001b[0m\u001b[0m\n\u001b[0;32m    891\u001b[0m         \u001b[0mproto_data\u001b[0m \u001b[1;33m=\u001b[0m \u001b[0mtf_session\u001b[0m\u001b[1;33m.\u001b[0m\u001b[0mTF_GetBuffer\u001b[0m\u001b[1;33m(\u001b[0m\u001b[0mrun_metadata_ptr\u001b[0m\u001b[1;33m)\u001b[0m\u001b[1;33m\u001b[0m\u001b[0m\n",
      "\u001b[1;32m/home/botman/Programming/Platforms/anaconda2/lib/python2.7/site-packages/tensorflow/python/client/session.pyc\u001b[0m in \u001b[0;36m_run\u001b[1;34m(self, handle, fetches, feed_dict, options, run_metadata)\u001b[0m\n\u001b[0;32m   1118\u001b[0m     \u001b[1;32mif\u001b[0m \u001b[0mfinal_fetches\u001b[0m \u001b[1;32mor\u001b[0m \u001b[0mfinal_targets\u001b[0m \u001b[1;32mor\u001b[0m \u001b[1;33m(\u001b[0m\u001b[0mhandle\u001b[0m \u001b[1;32mand\u001b[0m \u001b[0mfeed_dict_tensor\u001b[0m\u001b[1;33m)\u001b[0m\u001b[1;33m:\u001b[0m\u001b[1;33m\u001b[0m\u001b[0m\n\u001b[0;32m   1119\u001b[0m       results = self._do_run(handle, final_targets, final_fetches,\n\u001b[1;32m-> 1120\u001b[1;33m                              feed_dict_tensor, options, run_metadata)\n\u001b[0m\u001b[0;32m   1121\u001b[0m     \u001b[1;32melse\u001b[0m\u001b[1;33m:\u001b[0m\u001b[1;33m\u001b[0m\u001b[0m\n\u001b[0;32m   1122\u001b[0m       \u001b[0mresults\u001b[0m \u001b[1;33m=\u001b[0m \u001b[1;33m[\u001b[0m\u001b[1;33m]\u001b[0m\u001b[1;33m\u001b[0m\u001b[0m\n",
      "\u001b[1;32m/home/botman/Programming/Platforms/anaconda2/lib/python2.7/site-packages/tensorflow/python/client/session.pyc\u001b[0m in \u001b[0;36m_do_run\u001b[1;34m(self, handle, target_list, fetch_list, feed_dict, options, run_metadata)\u001b[0m\n\u001b[0;32m   1315\u001b[0m     \u001b[1;32mif\u001b[0m \u001b[0mhandle\u001b[0m \u001b[1;32mis\u001b[0m \u001b[0mNone\u001b[0m\u001b[1;33m:\u001b[0m\u001b[1;33m\u001b[0m\u001b[0m\n\u001b[0;32m   1316\u001b[0m       return self._do_call(_run_fn, self._session, feeds, fetches, targets,\n\u001b[1;32m-> 1317\u001b[1;33m                            options, run_metadata)\n\u001b[0m\u001b[0;32m   1318\u001b[0m     \u001b[1;32melse\u001b[0m\u001b[1;33m:\u001b[0m\u001b[1;33m\u001b[0m\u001b[0m\n\u001b[0;32m   1319\u001b[0m       \u001b[1;32mreturn\u001b[0m \u001b[0mself\u001b[0m\u001b[1;33m.\u001b[0m\u001b[0m_do_call\u001b[0m\u001b[1;33m(\u001b[0m\u001b[0m_prun_fn\u001b[0m\u001b[1;33m,\u001b[0m \u001b[0mself\u001b[0m\u001b[1;33m.\u001b[0m\u001b[0m_session\u001b[0m\u001b[1;33m,\u001b[0m \u001b[0mhandle\u001b[0m\u001b[1;33m,\u001b[0m \u001b[0mfeeds\u001b[0m\u001b[1;33m,\u001b[0m \u001b[0mfetches\u001b[0m\u001b[1;33m)\u001b[0m\u001b[1;33m\u001b[0m\u001b[0m\n",
      "\u001b[1;32m/home/botman/Programming/Platforms/anaconda2/lib/python2.7/site-packages/tensorflow/python/client/session.pyc\u001b[0m in \u001b[0;36m_do_call\u001b[1;34m(self, fn, *args)\u001b[0m\n\u001b[0;32m   1321\u001b[0m   \u001b[1;32mdef\u001b[0m \u001b[0m_do_call\u001b[0m\u001b[1;33m(\u001b[0m\u001b[0mself\u001b[0m\u001b[1;33m,\u001b[0m \u001b[0mfn\u001b[0m\u001b[1;33m,\u001b[0m \u001b[1;33m*\u001b[0m\u001b[0margs\u001b[0m\u001b[1;33m)\u001b[0m\u001b[1;33m:\u001b[0m\u001b[1;33m\u001b[0m\u001b[0m\n\u001b[0;32m   1322\u001b[0m     \u001b[1;32mtry\u001b[0m\u001b[1;33m:\u001b[0m\u001b[1;33m\u001b[0m\u001b[0m\n\u001b[1;32m-> 1323\u001b[1;33m       \u001b[1;32mreturn\u001b[0m \u001b[0mfn\u001b[0m\u001b[1;33m(\u001b[0m\u001b[1;33m*\u001b[0m\u001b[0margs\u001b[0m\u001b[1;33m)\u001b[0m\u001b[1;33m\u001b[0m\u001b[0m\n\u001b[0m\u001b[0;32m   1324\u001b[0m     \u001b[1;32mexcept\u001b[0m \u001b[0merrors\u001b[0m\u001b[1;33m.\u001b[0m\u001b[0mOpError\u001b[0m \u001b[1;32mas\u001b[0m \u001b[0me\u001b[0m\u001b[1;33m:\u001b[0m\u001b[1;33m\u001b[0m\u001b[0m\n\u001b[0;32m   1325\u001b[0m       \u001b[0mmessage\u001b[0m \u001b[1;33m=\u001b[0m \u001b[0mcompat\u001b[0m\u001b[1;33m.\u001b[0m\u001b[0mas_text\u001b[0m\u001b[1;33m(\u001b[0m\u001b[0me\u001b[0m\u001b[1;33m.\u001b[0m\u001b[0mmessage\u001b[0m\u001b[1;33m)\u001b[0m\u001b[1;33m\u001b[0m\u001b[0m\n",
      "\u001b[1;32m/home/botman/Programming/Platforms/anaconda2/lib/python2.7/site-packages/tensorflow/python/client/session.pyc\u001b[0m in \u001b[0;36m_run_fn\u001b[1;34m(session, feed_dict, fetch_list, target_list, options, run_metadata)\u001b[0m\n\u001b[0;32m   1300\u001b[0m           return tf_session.TF_Run(session, options,\n\u001b[0;32m   1301\u001b[0m                                    \u001b[0mfeed_dict\u001b[0m\u001b[1;33m,\u001b[0m \u001b[0mfetch_list\u001b[0m\u001b[1;33m,\u001b[0m \u001b[0mtarget_list\u001b[0m\u001b[1;33m,\u001b[0m\u001b[1;33m\u001b[0m\u001b[0m\n\u001b[1;32m-> 1302\u001b[1;33m                                    status, run_metadata)\n\u001b[0m\u001b[0;32m   1303\u001b[0m \u001b[1;33m\u001b[0m\u001b[0m\n\u001b[0;32m   1304\u001b[0m     \u001b[1;32mdef\u001b[0m \u001b[0m_prun_fn\u001b[0m\u001b[1;33m(\u001b[0m\u001b[0msession\u001b[0m\u001b[1;33m,\u001b[0m \u001b[0mhandle\u001b[0m\u001b[1;33m,\u001b[0m \u001b[0mfeed_dict\u001b[0m\u001b[1;33m,\u001b[0m \u001b[0mfetch_list\u001b[0m\u001b[1;33m)\u001b[0m\u001b[1;33m:\u001b[0m\u001b[1;33m\u001b[0m\u001b[0m\n",
      "\u001b[1;31mKeyboardInterrupt\u001b[0m: "
     ]
    }
   ],
   "source": [
    "# This is a temporary code and not the full blown:\n",
    "with tf.Session() as sess:\n",
    "    # initialize all the variables:\n",
    "    sess.run(init)\n",
    "    \n",
    "    for epoch in range(no_of_epochs):\n",
    "        \n",
    "        # run through the batches of the data:\n",
    "        for batch in range(int(np.ceil(float(total_train_examples) / batch_size))):\n",
    "            start = batch * batch_size; end = start + batch_size\n",
    "            \n",
    "            # extract the relevant data:\n",
    "            batch_data_X = train_X[start: end]\n",
    "            batch_data_Y = train_Y[start: end]\n",
    "        \n",
    "            # This is batch gradient descent: (We are running it only on first 512 images)\n",
    "            _, cost = sess.run([train_step, loss], feed_dict={tf_input_images: batch_data_X, \n",
    "                                                              tf_input_labels: batch_data_Y})\n",
    "        print \"epoch = \", epoch, \"cost = \", cost"
   ]
  }
 ],
 "metadata": {
  "kernelspec": {
   "display_name": "Python [Root]",
   "language": "python",
   "name": "Python [Root]"
  },
  "language_info": {
   "codemirror_mode": {
    "name": "ipython",
    "version": 2
   },
   "file_extension": ".py",
   "mimetype": "text/x-python",
   "name": "python",
   "nbconvert_exporter": "python",
   "pygments_lexer": "ipython2",
   "version": "2.7.12"
  }
 },
 "nbformat": 4,
 "nbformat_minor": 2
}
